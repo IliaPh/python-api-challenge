{
 "cells": [
  {
   "cell_type": "markdown",
   "metadata": {},
   "source": [
    "# WeatherPy\n",
    "----\n",
    "\n",
    "#### Note\n",
    "* Instructions have been included for each segment. You do not have to follow them exactly, but they are included to help you think through the steps."
   ]
  },
  {
   "cell_type": "code",
   "execution_count": 1,
   "metadata": {
    "scrolled": true
   },
   "outputs": [],
   "source": [
    "# Dependencies and Setup\n",
    "import matplotlib.pyplot as plt\n",
    "import pandas as pd\n",
    "import numpy as np\n",
    "import requests\n",
    "import time\n",
    "import scipy.stats as st\n",
    "from datetime import date\n",
    "from datetime import datetime\n",
    "from scipy.stats import linregress\n",
    "import json\n",
    "\n",
    "# Import API key\n",
    "from api_keys import weather_api_key\n",
    "\n",
    "# Incorporated citipy to determine city based on latitude and longitude\n",
    "from citipy import citipy\n",
    "\n",
    "# Output File (CSV)\n",
    "output_data_file = \"output_data/cities.csv\"\n",
    "\n",
    "# Range of latitudes and longitudes\n",
    "lat_range = (-90, 90)\n",
    "lng_range = (-180, 180)"
   ]
  },
  {
   "cell_type": "markdown",
   "metadata": {},
   "source": [
    "## Generate Cities List"
   ]
  },
  {
   "cell_type": "code",
   "execution_count": 2,
   "metadata": {},
   "outputs": [
    {
     "data": {
      "text/plain": [
       "629"
      ]
     },
     "execution_count": 2,
     "metadata": {},
     "output_type": "execute_result"
    }
   ],
   "source": [
    "# List for holding lat_lngs and cities\n",
    "lat_lngs = []\n",
    "cities = []\n",
    "\n",
    "# Create a set of random lat and lng combinations\n",
    "lats = np.random.uniform(lat_range[0], lat_range[1], size=1500)\n",
    "lngs = np.random.uniform(lng_range[0], lng_range[1], size=1500)\n",
    "lat_lngs = zip(lats, lngs)\n",
    "\n",
    "# Identify nearest city for each lat, lng combination\n",
    "for lat_lng in lat_lngs:\n",
    "    city = citipy.nearest_city(lat_lng[0], lat_lng[1]).city_name\n",
    "    \n",
    "    # If the city is unique, then add it to a our cities list\n",
    "    if city not in cities:\n",
    "        cities.append(city)\n",
    "\n",
    "# Print the city count to confirm sufficient count\n",
    "len(cities)"
   ]
  },
  {
   "cell_type": "markdown",
   "metadata": {},
   "source": [
    "### Perform API Calls\n",
    "* Perform a weather check on each city using a series of successive API calls.\n",
    "* Include a print log of each city as it'sbeing processed (with the city number and city name).\n"
   ]
  },
  {
   "cell_type": "code",
   "execution_count": 3,
   "metadata": {},
   "outputs": [],
   "source": [
    "# Save config information\n",
    "base_url = \"http://api.openweathermap.org/data/2.5/weather?\"\n",
    "units = \"imperial\"\n",
    "\n",
    "# Build query URL\n",
    "query_url = f\"{base_url}appid={weather_api_key}&units={units}&q=\""
   ]
  },
  {
   "cell_type": "code",
   "execution_count": 4,
   "metadata": {},
   "outputs": [],
   "source": [
    "# Create a list\n",
    "city_name_list = []\n",
    "cloudiness_list = []\n",
    "country_list = []\n",
    "date_list = []\n",
    "humidity_list = []\n",
    "lat_list = []\n",
    "lng_list = []\n",
    "max_temp_list = []\n",
    "wind_speed_list = []\n",
    "index_counter = 0\n",
    "set_counter = 1"
   ]
  },
  {
   "cell_type": "code",
   "execution_count": 5,
   "metadata": {
    "scrolled": false
   },
   "outputs": [
    {
     "name": "stdout",
     "output_type": "stream",
     "text": [
      "Beginning Data Retrieval \n",
      "-----------------------------\n",
      "Processing Record 1 of Set 1 : esperance\n",
      "Processing Record 2 of Set 1 : albany\n",
      "Processing Record 3 of Set 1 : muros\n",
      "Processing Record 4 of Set 1 : thompson\n",
      "Processing Record 5 of Set 1 : hilo\n",
      "Processing Record 6 of Set 1 : port lincoln\n",
      "Processing Record 7 of Set 1 : ushuaia\n",
      "Processing Record 8 of Set 1 : bethel\n",
      "Processing Record 9 of Set 1 : coquimbo\n",
      "Processing Record 10 of Set 1 : vaini\n",
      "Processing Record 11 of Set 1 : dikson\n",
      "Processing Record 12 of Set 1 : kollegal\n",
      "Processing Record 13 of Set 1 : bredasdorp\n",
      "Processing Record 14 of Set 1 : bambanglipuro\n",
      "Processing Record 15 of Set 1 : kapaa\n",
      "Processing Record 16 of Set 1 : dwarka\n",
      "Processing Record 17 of Set 1 : souillac\n",
      "Processing Record 18 of Set 1 : puerto ayora\n",
      "Processing Record 19 of Set 1 : karatuzskoye\n",
      "Processing Record 20 of Set 1 : xiaoweizhai\n",
      "Processing Record 21 of Set 1 : bluff\n",
      "City not found. Skipping...\n",
      "Processing Record 22 of Set 1 : khatanga\n",
      "City not found. Skipping...\n",
      "Processing Record 23 of Set 1 : busselton\n",
      "Processing Record 24 of Set 1 : new norfolk\n",
      "Processing Record 25 of Set 1 : atuona\n",
      "Processing Record 26 of Set 1 : ponta do sol\n",
      "Processing Record 27 of Set 1 : chokurdakh\n",
      "Processing Record 28 of Set 1 : rikitea\n",
      "Processing Record 29 of Set 1 : yangcun\n",
      "Processing Record 30 of Set 1 : pisco\n",
      "Processing Record 31 of Set 1 : nikolskoye\n",
      "City not found. Skipping...\n",
      "Processing Record 32 of Set 1 : morris\n",
      "Processing Record 33 of Set 1 : jinchang\n",
      "Processing Record 34 of Set 1 : lompoc\n",
      "Processing Record 35 of Set 1 : hobart\n",
      "Processing Record 36 of Set 1 : farim\n",
      "Processing Record 37 of Set 1 : cherskiy\n",
      "Processing Record 38 of Set 1 : marienburg\n",
      "Processing Record 39 of Set 1 : coahuayana\n",
      "Processing Record 40 of Set 1 : mahebourg\n",
      "Processing Record 41 of Set 1 : barrow\n",
      "Processing Record 42 of Set 1 : carnarvon\n",
      "Processing Record 43 of Set 1 : lebu\n",
      "Processing Record 44 of Set 1 : butaritari\n",
      "Processing Record 45 of Set 1 : taltal\n",
      "City not found. Skipping...\n",
      "Processing Record 46 of Set 1 : longyearbyen\n",
      "Processing Record 47 of Set 1 : yar-sale\n",
      "Processing Record 48 of Set 1 : yellowknife\n",
      "Processing Record 49 of Set 1 : porto novo\n",
      "Processing Record 50 of Set 1 : dong hoi\n",
      "Processing Record 0 of Set 2 : bambous virieux\n",
      "City not found. Skipping...\n",
      "Processing Record 1 of Set 2 : hobyo\n",
      "Processing Record 2 of Set 2 : lata\n",
      "Processing Record 3 of Set 2 : nata\n",
      "Processing Record 4 of Set 2 : kavaratti\n",
      "Processing Record 5 of Set 2 : chekmagush\n",
      "Processing Record 6 of Set 2 : cape town\n",
      "Processing Record 7 of Set 2 : mitu\n",
      "Processing Record 8 of Set 2 : kodinsk\n",
      "Processing Record 9 of Set 2 : nakhon phanom\n",
      "Processing Record 10 of Set 2 : port augusta\n",
      "Processing Record 11 of Set 2 : punta arenas\n",
      "Processing Record 12 of Set 2 : chuy\n",
      "City not found. Skipping...\n",
      "City not found. Skipping...\n",
      "Processing Record 13 of Set 2 : cabo san lucas\n",
      "Processing Record 14 of Set 2 : ouadda\n",
      "Processing Record 15 of Set 2 : sibolga\n",
      "Processing Record 16 of Set 2 : karasuk\n",
      "Processing Record 17 of Set 2 : santa rosa\n",
      "Processing Record 18 of Set 2 : mataura\n",
      "Processing Record 19 of Set 2 : rizhao\n",
      "Processing Record 20 of Set 2 : saint-philippe\n",
      "Processing Record 21 of Set 2 : derzhavinsk\n",
      "Processing Record 22 of Set 2 : hualmay\n",
      "Processing Record 23 of Set 2 : hermanus\n",
      "Processing Record 24 of Set 2 : jamestown\n",
      "Processing Record 25 of Set 2 : cidreira\n",
      "City not found. Skipping...\n",
      "Processing Record 26 of Set 2 : adrar\n",
      "Processing Record 27 of Set 2 : chestermere\n",
      "Processing Record 28 of Set 2 : comodoro rivadavia\n",
      "Processing Record 29 of Set 2 : manta\n",
      "City not found. Skipping...\n",
      "Processing Record 30 of Set 2 : rundu\n",
      "Processing Record 31 of Set 2 : bonthe\n",
      "Processing Record 32 of Set 2 : kilindoni\n",
      "Processing Record 33 of Set 2 : kaitangata\n",
      "Processing Record 34 of Set 2 : upernavik\n",
      "Processing Record 35 of Set 2 : lasa\n",
      "Processing Record 36 of Set 2 : namatanai\n",
      "Processing Record 37 of Set 2 : znamenskoye\n",
      "Processing Record 38 of Set 2 : los llanos de aridane\n",
      "Processing Record 39 of Set 2 : port elizabeth\n",
      "Processing Record 40 of Set 2 : leningradskiy\n",
      "Processing Record 41 of Set 2 : agadir\n",
      "Processing Record 42 of Set 2 : mbandaka\n",
      "Processing Record 43 of Set 2 : bissau\n",
      "Processing Record 44 of Set 2 : airai\n",
      "Processing Record 45 of Set 2 : boa vista\n",
      "Processing Record 46 of Set 2 : villaviciosa\n",
      "Processing Record 47 of Set 2 : toora-khem\n",
      "Processing Record 48 of Set 2 : beipiao\n",
      "Processing Record 49 of Set 2 : usinsk\n",
      "Processing Record 50 of Set 2 : chapais\n",
      "Processing Record 0 of Set 3 : palmer\n",
      "Processing Record 1 of Set 3 : taber\n",
      "Processing Record 2 of Set 3 : katsuura\n",
      "City not found. Skipping...\n",
      "Processing Record 3 of Set 3 : coihueco\n",
      "Processing Record 4 of Set 3 : tuktoyaktuk\n",
      "Processing Record 5 of Set 3 : auki\n",
      "Processing Record 6 of Set 3 : srednekolymsk\n",
      "Processing Record 7 of Set 3 : lamu\n",
      "Processing Record 8 of Set 3 : georgetown\n",
      "Processing Record 9 of Set 3 : pau brasil\n",
      "Processing Record 10 of Set 3 : arraial do cabo\n",
      "Processing Record 11 of Set 3 : tuatapere\n",
      "Processing Record 12 of Set 3 : nantucket\n",
      "Processing Record 13 of Set 3 : east london\n",
      "Processing Record 14 of Set 3 : ribeira grande\n",
      "City not found. Skipping...\n",
      "Processing Record 15 of Set 3 : miraflores\n",
      "Processing Record 16 of Set 3 : sangar\n",
      "Processing Record 17 of Set 3 : gornopravdinsk\n",
      "Processing Record 18 of Set 3 : hithadhoo\n",
      "Processing Record 19 of Set 3 : tansen\n",
      "Processing Record 20 of Set 3 : lavrentiya\n",
      "Processing Record 21 of Set 3 : pangnirtung\n",
      "Processing Record 22 of Set 3 : purpe\n",
      "Processing Record 23 of Set 3 : dongsheng\n",
      "Processing Record 24 of Set 3 : bonavista\n",
      "Processing Record 25 of Set 3 : beyneu\n",
      "Processing Record 26 of Set 3 : ulaanbaatar\n",
      "Processing Record 27 of Set 3 : bara\n",
      "Processing Record 28 of Set 3 : saurimo\n",
      "Processing Record 29 of Set 3 : rantepao\n",
      "Processing Record 30 of Set 3 : saint-georges\n",
      "Processing Record 31 of Set 3 : tirumullaivasal\n",
      "Processing Record 32 of Set 3 : saskylakh\n",
      "Processing Record 33 of Set 3 : san patricio\n",
      "Processing Record 34 of Set 3 : fortuna\n",
      "Processing Record 35 of Set 3 : laguna\n",
      "Processing Record 36 of Set 3 : obihiro\n",
      "Processing Record 37 of Set 3 : camacha\n",
      "Processing Record 38 of Set 3 : sorland\n",
      "Processing Record 39 of Set 3 : touros\n",
      "Processing Record 40 of Set 3 : ambilobe\n",
      "Processing Record 41 of Set 3 : kavieng\n",
      "Processing Record 42 of Set 3 : codrington\n",
      "Processing Record 43 of Set 3 : aquidauana\n",
      "Processing Record 44 of Set 3 : vostok\n",
      "Processing Record 45 of Set 3 : saint george\n",
      "Processing Record 46 of Set 3 : mauguio\n",
      "Processing Record 47 of Set 3 : umuahia\n",
      "Processing Record 48 of Set 3 : mawlaik\n",
      "Processing Record 49 of Set 3 : meulaboh\n",
      "Processing Record 50 of Set 3 : bumba\n",
      "Processing Record 0 of Set 4 : peterhead\n",
      "Processing Record 1 of Set 4 : smithers\n",
      "Processing Record 2 of Set 4 : pinega\n",
      "Processing Record 3 of Set 4 : fairbanks\n",
      "Processing Record 4 of Set 4 : marrakesh\n",
      "Processing Record 5 of Set 4 : lucknow\n",
      "Processing Record 6 of Set 4 : manono\n",
      "Processing Record 7 of Set 4 : port macquarie\n",
      "Processing Record 8 of Set 4 : pitsunda\n",
      "Processing Record 9 of Set 4 : fez\n",
      "Processing Record 10 of Set 4 : makokou\n",
      "Processing Record 11 of Set 4 : sambava\n",
      "Processing Record 12 of Set 4 : motygino\n",
      "Processing Record 13 of Set 4 : chake chake\n",
      "Processing Record 14 of Set 4 : isla mujeres\n",
      "Processing Record 15 of Set 4 : hearst\n",
      "Processing Record 16 of Set 4 : svetlaya\n",
      "Processing Record 17 of Set 4 : luena\n",
      "Processing Record 18 of Set 4 : bengkulu\n",
      "Processing Record 19 of Set 4 : aasiaat\n",
      "Processing Record 20 of Set 4 : innisfail\n",
      "Processing Record 21 of Set 4 : russell\n",
      "City not found. Skipping...\n",
      "Processing Record 22 of Set 4 : avarua\n",
      "Processing Record 23 of Set 4 : dunmore town\n",
      "City not found. Skipping...\n",
      "Processing Record 24 of Set 4 : antalaha\n",
      "Processing Record 25 of Set 4 : beloha\n",
      "Processing Record 26 of Set 4 : castro\n",
      "Processing Record 27 of Set 4 : aracuai\n",
      "Processing Record 28 of Set 4 : palmas de monte alto\n",
      "City not found. Skipping...\n",
      "Processing Record 29 of Set 4 : natal\n",
      "Processing Record 30 of Set 4 : atasu\n",
      "Processing Record 31 of Set 4 : faya\n",
      "Processing Record 32 of Set 4 : zyryanka\n",
      "Processing Record 33 of Set 4 : port alfred\n",
      "Processing Record 34 of Set 4 : tiksi\n",
      "Processing Record 35 of Set 4 : ust-maya\n",
      "Processing Record 36 of Set 4 : escarcega\n",
      "City not found. Skipping...\n"
     ]
    },
    {
     "name": "stdout",
     "output_type": "stream",
     "text": [
      "Processing Record 37 of Set 4 : mbaiki\n",
      "Processing Record 38 of Set 4 : torbay\n",
      "City not found. Skipping...\n",
      "Processing Record 39 of Set 4 : nome\n",
      "Processing Record 40 of Set 4 : husavik\n",
      "City not found. Skipping...\n",
      "Processing Record 41 of Set 4 : agua blanca sur\n",
      "Processing Record 42 of Set 4 : shenzhen\n",
      "Processing Record 43 of Set 4 : mayo\n",
      "Processing Record 44 of Set 4 : tazovskiy\n",
      "Processing Record 45 of Set 4 : berlevag\n",
      "City not found. Skipping...\n",
      "Processing Record 46 of Set 4 : hamilton\n",
      "City not found. Skipping...\n",
      "Processing Record 47 of Set 4 : isangel\n",
      "Processing Record 48 of Set 4 : pathein\n",
      "Processing Record 49 of Set 4 : ancud\n",
      "City not found. Skipping...\n",
      "Processing Record 50 of Set 4 : mopipi\n",
      "Processing Record 0 of Set 5 : plettenberg bay\n",
      "Processing Record 1 of Set 5 : hasaki\n",
      "Processing Record 2 of Set 5 : aswan\n",
      "Processing Record 3 of Set 5 : carnduff\n",
      "Processing Record 4 of Set 5 : ketchikan\n",
      "Processing Record 5 of Set 5 : frontera\n",
      "Processing Record 6 of Set 5 : saint anthony\n",
      "Processing Record 7 of Set 5 : andenes\n",
      "City not found. Skipping...\n",
      "City not found. Skipping...\n",
      "Processing Record 8 of Set 5 : macia\n",
      "Processing Record 9 of Set 5 : provideniya\n",
      "Processing Record 10 of Set 5 : genhe\n",
      "Processing Record 11 of Set 5 : hvide sande\n",
      "Processing Record 12 of Set 5 : labuhan\n",
      "Processing Record 13 of Set 5 : manzil kamil\n",
      "Processing Record 14 of Set 5 : luganville\n",
      "Processing Record 15 of Set 5 : kodiak\n",
      "Processing Record 16 of Set 5 : kahului\n",
      "Processing Record 17 of Set 5 : iqaluit\n",
      "Processing Record 18 of Set 5 : ilulissat\n",
      "Processing Record 19 of Set 5 : vardo\n",
      "Processing Record 20 of Set 5 : severo-kurilsk\n",
      "Processing Record 21 of Set 5 : xixiang\n",
      "Processing Record 22 of Set 5 : kolyvan\n",
      "Processing Record 23 of Set 5 : bilma\n",
      "Processing Record 24 of Set 5 : chippewa falls\n",
      "Processing Record 25 of Set 5 : kedougou\n",
      "Processing Record 26 of Set 5 : vestmanna\n",
      "Processing Record 27 of Set 5 : narsaq\n",
      "Processing Record 28 of Set 5 : port hedland\n",
      "Processing Record 29 of Set 5 : kiama\n",
      "Processing Record 30 of Set 5 : northam\n",
      "Processing Record 31 of Set 5 : nanortalik\n",
      "Processing Record 32 of Set 5 : bandarbeyla\n",
      "Processing Record 33 of Set 5 : tha mai\n",
      "Processing Record 34 of Set 5 : deputatskiy\n",
      "Processing Record 35 of Set 5 : alice springs\n",
      "Processing Record 36 of Set 5 : kuito\n",
      "Processing Record 37 of Set 5 : katobu\n",
      "Processing Record 38 of Set 5 : namibe\n",
      "Processing Record 39 of Set 5 : turbat\n",
      "Processing Record 40 of Set 5 : agadez\n",
      "Processing Record 41 of Set 5 : tilichiki\n",
      "Processing Record 42 of Set 5 : rawson\n",
      "Processing Record 43 of Set 5 : katangli\n",
      "Processing Record 44 of Set 5 : cerna hora\n",
      "Processing Record 45 of Set 5 : college\n",
      "Processing Record 46 of Set 5 : yaan\n",
      "Processing Record 47 of Set 5 : grass valley\n",
      "Processing Record 48 of Set 5 : kloulklubed\n",
      "Processing Record 49 of Set 5 : manakara\n",
      "Processing Record 50 of Set 5 : klaksvik\n",
      "City not found. Skipping...\n",
      "Processing Record 0 of Set 6 : pangai\n",
      "Processing Record 1 of Set 6 : baracoa\n",
      "Processing Record 2 of Set 6 : ostersund\n",
      "Processing Record 3 of Set 6 : wahiawa\n",
      "Processing Record 4 of Set 6 : cumana\n",
      "Processing Record 5 of Set 6 : belmonte\n",
      "Processing Record 6 of Set 6 : kismayo\n",
      "City not found. Skipping...\n",
      "Processing Record 7 of Set 6 : sitka\n",
      "Processing Record 8 of Set 6 : nouadhibou\n",
      "Processing Record 9 of Set 6 : sarkand\n",
      "Processing Record 10 of Set 6 : paris\n",
      "Processing Record 11 of Set 6 : umm kaddadah\n",
      "City not found. Skipping...\n",
      "Processing Record 12 of Set 6 : qaanaaq\n",
      "Processing Record 13 of Set 6 : karasjok\n",
      "Processing Record 14 of Set 6 : kita\n",
      "Processing Record 15 of Set 6 : sao filipe\n",
      "City not found. Skipping...\n",
      "Processing Record 16 of Set 6 : ulladulla\n",
      "Processing Record 17 of Set 6 : chicama\n",
      "Processing Record 18 of Set 6 : mount gambier\n",
      "Processing Record 19 of Set 6 : torphins\n",
      "City not found. Skipping...\n",
      "Processing Record 20 of Set 6 : amapa\n",
      "Processing Record 21 of Set 6 : bathsheba\n",
      "Processing Record 22 of Set 6 : avera\n",
      "Processing Record 23 of Set 6 : luangwa\n",
      "Processing Record 24 of Set 6 : salalah\n",
      "Processing Record 25 of Set 6 : chapleau\n",
      "Processing Record 26 of Set 6 : te kauwhata\n",
      "City not found. Skipping...\n",
      "Processing Record 27 of Set 6 : kenai\n",
      "Processing Record 28 of Set 6 : vatne\n",
      "Processing Record 29 of Set 6 : plouzane\n",
      "Processing Record 30 of Set 6 : thanh hoa\n",
      "Processing Record 31 of Set 6 : sergach\n",
      "Processing Record 32 of Set 6 : vilhena\n",
      "Processing Record 33 of Set 6 : qobustan\n",
      "Processing Record 34 of Set 6 : byron bay\n",
      "Processing Record 35 of Set 6 : kautokeino\n",
      "Processing Record 36 of Set 6 : seddon\n",
      "Processing Record 37 of Set 6 : victoria\n",
      "Processing Record 38 of Set 6 : kuching\n",
      "Processing Record 39 of Set 6 : otorohanga\n",
      "Processing Record 40 of Set 6 : houma\n",
      "Processing Record 41 of Set 6 : baruun-urt\n",
      "Processing Record 42 of Set 6 : laredo\n",
      "Processing Record 43 of Set 6 : trairi\n",
      "Processing Record 44 of Set 6 : walvis bay\n",
      "Processing Record 45 of Set 6 : clyde river\n",
      "Processing Record 46 of Set 6 : ugoofaaru\n",
      "Processing Record 47 of Set 6 : parrita\n",
      "Processing Record 48 of Set 6 : marijampole\n",
      "Processing Record 49 of Set 6 : falciu\n",
      "Processing Record 50 of Set 6 : kashiwazaki\n",
      "Processing Record 0 of Set 7 : beringovskiy\n",
      "Processing Record 1 of Set 7 : norman wells\n",
      "Processing Record 2 of Set 7 : kruisfontein\n",
      "Processing Record 3 of Set 7 : sijunjung\n",
      "Processing Record 4 of Set 7 : nemuro\n",
      "Processing Record 5 of Set 7 : sisimiut\n",
      "Processing Record 6 of Set 7 : inhambane\n",
      "Processing Record 7 of Set 7 : cayenne\n",
      "City not found. Skipping...\n",
      "Processing Record 8 of Set 7 : westport\n",
      "Processing Record 9 of Set 7 : lekoni\n",
      "Processing Record 10 of Set 7 : zemaiciu naumiestis\n",
      "Processing Record 11 of Set 7 : poum\n",
      "Processing Record 12 of Set 7 : tura\n",
      "Processing Record 13 of Set 7 : bokovskaya\n",
      "Processing Record 14 of Set 7 : mulchen\n",
      "Processing Record 15 of Set 7 : kirakira\n",
      "Processing Record 16 of Set 7 : aurillac\n",
      "Processing Record 17 of Set 7 : panaba\n",
      "Processing Record 18 of Set 7 : lixourion\n",
      "Processing Record 19 of Set 7 : dzhebariki-khaya\n",
      "Processing Record 20 of Set 7 : sao joao da barra\n",
      "Processing Record 21 of Set 7 : douglas\n",
      "Processing Record 22 of Set 7 : kerchevskiy\n",
      "Processing Record 23 of Set 7 : kjopsvik\n",
      "Processing Record 24 of Set 7 : idenao\n",
      "Processing Record 25 of Set 7 : krasnyy chikoy\n",
      "Processing Record 26 of Set 7 : vagur\n",
      "Processing Record 27 of Set 7 : camalu\n",
      "Processing Record 28 of Set 7 : asau\n",
      "Processing Record 29 of Set 7 : geraldton\n",
      "Processing Record 30 of Set 7 : victor harbor\n",
      "Processing Record 31 of Set 7 : yumen\n",
      "Processing Record 32 of Set 7 : pevek\n",
      "Processing Record 33 of Set 7 : khuzdar\n",
      "Processing Record 34 of Set 7 : corrales\n",
      "Processing Record 35 of Set 7 : beausejour\n",
      "City not found. Skipping...\n",
      "Processing Record 36 of Set 7 : tual\n",
      "Processing Record 37 of Set 7 : port blair\n",
      "Processing Record 38 of Set 7 : hami\n",
      "Processing Record 39 of Set 7 : torit\n",
      "Processing Record 40 of Set 7 : mantua\n",
      "Processing Record 41 of Set 7 : anadyr\n",
      "Processing Record 42 of Set 7 : mandera\n",
      "City not found. Skipping...\n",
      "Processing Record 43 of Set 7 : barra dos coqueiros\n",
      "Processing Record 44 of Set 7 : tasiilaq\n",
      "Processing Record 45 of Set 7 : kandiaro\n",
      "Processing Record 46 of Set 7 : egvekinot\n",
      "Processing Record 47 of Set 7 : west bay\n",
      "Processing Record 48 of Set 7 : kumeny\n",
      "Processing Record 49 of Set 7 : matagami\n",
      "Processing Record 50 of Set 7 : saldanha\n",
      "Processing Record 0 of Set 8 : kariba\n",
      "Processing Record 1 of Set 8 : tabou\n",
      "Processing Record 2 of Set 8 : ballina\n",
      "Processing Record 3 of Set 8 : gudermes\n",
      "Processing Record 4 of Set 8 : verkhoyansk\n",
      "Processing Record 5 of Set 8 : paseh\n",
      "Processing Record 6 of Set 8 : churapcha\n",
      "Processing Record 7 of Set 8 : moindou\n",
      "Processing Record 8 of Set 8 : scarborough\n",
      "Processing Record 9 of Set 8 : mahajanga\n",
      "Processing Record 10 of Set 8 : kawalu\n",
      "Processing Record 11 of Set 8 : bilibino\n",
      "Processing Record 12 of Set 8 : faanui\n",
      "Processing Record 13 of Set 8 : luderitz\n",
      "Processing Record 14 of Set 8 : alpena\n",
      "Processing Record 15 of Set 8 : hambantota\n",
      "City not found. Skipping...\n",
      "Processing Record 16 of Set 8 : benoy\n",
      "Processing Record 17 of Set 8 : vila velha\n",
      "Processing Record 18 of Set 8 : kalmunai\n",
      "Processing Record 19 of Set 8 : oskemen\n",
      "Processing Record 20 of Set 8 : mackay\n",
      "Processing Record 21 of Set 8 : chase\n",
      "Processing Record 22 of Set 8 : mar del plata\n"
     ]
    },
    {
     "name": "stdout",
     "output_type": "stream",
     "text": [
      "Processing Record 23 of Set 8 : valera\n",
      "Processing Record 24 of Set 8 : batagay\n",
      "Processing Record 25 of Set 8 : savannah bight\n",
      "Processing Record 26 of Set 8 : manutuke\n",
      "Processing Record 27 of Set 8 : nuevo progreso\n",
      "Processing Record 28 of Set 8 : broome\n",
      "Processing Record 29 of Set 8 : caravelas\n",
      "City not found. Skipping...\n",
      "Processing Record 30 of Set 8 : karratha\n",
      "City not found. Skipping...\n",
      "Processing Record 31 of Set 8 : mecca\n",
      "Processing Record 32 of Set 8 : dekalb\n",
      "Processing Record 33 of Set 8 : acapulco\n",
      "Processing Record 34 of Set 8 : aklavik\n",
      "Processing Record 35 of Set 8 : xuddur\n",
      "Processing Record 36 of Set 8 : shenjiamen\n",
      "Processing Record 37 of Set 8 : kungurtug\n",
      "Processing Record 38 of Set 8 : gigmoto\n",
      "Processing Record 39 of Set 8 : pindiga\n",
      "Processing Record 40 of Set 8 : mancio lima\n",
      "City not found. Skipping...\n",
      "Processing Record 41 of Set 8 : kumluca\n",
      "Processing Record 42 of Set 8 : tautira\n",
      "Processing Record 43 of Set 8 : kultuk\n",
      "Processing Record 44 of Set 8 : berbera\n",
      "Processing Record 45 of Set 8 : saint-francois\n",
      "Processing Record 46 of Set 8 : kiunga\n",
      "Processing Record 47 of Set 8 : xian\n",
      "Processing Record 48 of Set 8 : xique-xique\n",
      "City not found. Skipping...\n",
      "Processing Record 49 of Set 8 : lucapa\n",
      "Processing Record 50 of Set 8 : lorengau\n",
      "City not found. Skipping...\n",
      "Processing Record 0 of Set 9 : aguimes\n",
      "Processing Record 1 of Set 9 : nishihara\n",
      "Processing Record 2 of Set 9 : santa cruz\n",
      "Processing Record 3 of Set 9 : shinpokh\n",
      "Processing Record 4 of Set 9 : rapid city\n",
      "Processing Record 5 of Set 9 : veraval\n",
      "Processing Record 6 of Set 9 : luebo\n",
      "Processing Record 7 of Set 9 : milkovo\n",
      "Processing Record 8 of Set 9 : sinnamary\n",
      "Processing Record 9 of Set 9 : itarema\n",
      "Processing Record 10 of Set 9 : nong khae\n",
      "Processing Record 11 of Set 9 : jiazi\n",
      "Processing Record 12 of Set 9 : selma\n",
      "Processing Record 13 of Set 9 : san cristobal\n",
      "Processing Record 14 of Set 9 : port-gentil\n",
      "Processing Record 15 of Set 9 : berezovka\n",
      "Processing Record 16 of Set 9 : laja\n",
      "Processing Record 17 of Set 9 : villarrica\n",
      "Processing Record 18 of Set 9 : makakilo city\n",
      "Processing Record 19 of Set 9 : les cayes\n",
      "Processing Record 20 of Set 9 : caxito\n",
      "City not found. Skipping...\n",
      "Processing Record 21 of Set 9 : zhengjiatun\n",
      "Processing Record 22 of Set 9 : nador\n",
      "City not found. Skipping...\n",
      "City not found. Skipping...\n",
      "Processing Record 23 of Set 9 : pak phanang\n",
      "Processing Record 24 of Set 9 : arlit\n",
      "Processing Record 25 of Set 9 : jaru\n",
      "Processing Record 26 of Set 9 : kijang\n",
      "Processing Record 27 of Set 9 : hay river\n",
      "Processing Record 28 of Set 9 : karlskrona\n",
      "Processing Record 29 of Set 9 : kirovskiy\n",
      "Processing Record 30 of Set 9 : ahipara\n",
      "Processing Record 31 of Set 9 : ponta delgada\n",
      "Processing Record 32 of Set 9 : margate\n",
      "Processing Record 33 of Set 9 : cap-aux-meules\n",
      "Processing Record 34 of Set 9 : zhigansk\n",
      "Processing Record 35 of Set 9 : azare\n",
      "Processing Record 36 of Set 9 : awjilah\n",
      "Processing Record 37 of Set 9 : palkino\n",
      "Processing Record 38 of Set 9 : kharp\n",
      "Processing Record 39 of Set 9 : sioux lookout\n",
      "Processing Record 40 of Set 9 : alugan\n",
      "Processing Record 41 of Set 9 : palembang\n",
      "Processing Record 42 of Set 9 : bose\n",
      "Processing Record 43 of Set 9 : eufaula\n",
      "City not found. Skipping...\n",
      "Processing Record 44 of Set 9 : samarai\n",
      "City not found. Skipping...\n",
      "Processing Record 45 of Set 9 : malakal\n",
      "City not found. Skipping...\n",
      "Processing Record 46 of Set 9 : wanning\n",
      "Processing Record 47 of Set 9 : sistranda\n",
      "Processing Record 48 of Set 9 : talnakh\n",
      "City not found. Skipping...\n",
      "Processing Record 49 of Set 9 : prince rupert\n",
      "Processing Record 50 of Set 9 : pacific grove\n",
      "Processing Record 0 of Set 10 : ranot\n",
      "City not found. Skipping...\n",
      "Processing Record 1 of Set 10 : pamplona\n",
      "Processing Record 2 of Set 10 : nova olinda do norte\n",
      "Processing Record 3 of Set 10 : honiara\n",
      "Processing Record 4 of Set 10 : svetlyy\n",
      "Processing Record 5 of Set 10 : aitape\n",
      "Processing Record 6 of Set 10 : kushima\n",
      "Processing Record 7 of Set 10 : orcopampa\n",
      "Processing Record 8 of Set 10 : key largo\n",
      "Processing Record 9 of Set 10 : flin flon\n",
      "Processing Record 10 of Set 10 : guanica\n",
      "Processing Record 11 of Set 10 : santa margherita ligure\n",
      "Processing Record 12 of Set 10 : resistencia\n",
      "Processing Record 13 of Set 10 : kristiansund\n",
      "Processing Record 14 of Set 10 : manaure\n",
      "Processing Record 15 of Set 10 : grindavik\n",
      "Processing Record 16 of Set 10 : chimoio\n",
      "Processing Record 17 of Set 10 : rincon\n",
      "Processing Record 18 of Set 10 : roma\n",
      "Processing Record 19 of Set 10 : esik\n",
      "Processing Record 20 of Set 10 : la libertad\n",
      "Processing Record 21 of Set 10 : padang\n",
      "City not found. Skipping...\n",
      "Processing Record 22 of Set 10 : rio gallegos\n",
      "Processing Record 23 of Set 10 : kralendijk\n",
      "City not found. Skipping...\n",
      "Processing Record 24 of Set 10 : launceston\n",
      "Processing Record 25 of Set 10 : puerto cabezas\n",
      "Processing Record 26 of Set 10 : corinto\n",
      "Processing Record 27 of Set 10 : cockburn town\n",
      "Processing Record 28 of Set 10 : livani\n",
      "Processing Record 29 of Set 10 : damietta\n",
      "Processing Record 30 of Set 10 : liverpool\n",
      "City not found. Skipping...\n",
      "Processing Record 31 of Set 10 : grimshaw\n",
      "Processing Record 32 of Set 10 : conceicao da barra\n",
      "Processing Record 33 of Set 10 : nioki\n",
      "Processing Record 34 of Set 10 : songea\n",
      "Processing Record 35 of Set 10 : maku\n",
      "Processing Record 36 of Set 10 : nurobod\n",
      "Processing Record 37 of Set 10 : agucadoura\n",
      "Processing Record 38 of Set 10 : mocuba\n",
      "Processing Record 39 of Set 10 : klyuchi\n",
      "Processing Record 40 of Set 10 : sobolevo\n",
      "Processing Record 41 of Set 10 : falkenberg\n",
      "Processing Record 42 of Set 10 : lagdo\n",
      "Processing Record 43 of Set 10 : port pirie\n",
      "Processing Record 44 of Set 10 : ritchie\n",
      "Processing Record 45 of Set 10 : kailua\n",
      "Processing Record 46 of Set 10 : gravelbourg\n",
      "Processing Record 47 of Set 10 : okakarara\n",
      "Processing Record 48 of Set 10 : lukovetskiy\n",
      "Processing Record 49 of Set 10 : dvinskoy\n",
      "Processing Record 50 of Set 10 : oktyabrskoye\n",
      "Processing Record 0 of Set 11 : alcaniz\n",
      "Processing Record 1 of Set 11 : la primavera\n",
      "Processing Record 2 of Set 11 : rio cauto\n",
      "Processing Record 3 of Set 11 : haveli\n",
      "Processing Record 4 of Set 11 : coihaique\n",
      "Processing Record 5 of Set 11 : sahuaripa\n",
      "Processing Record 6 of Set 11 : linhares\n",
      "Processing Record 7 of Set 11 : eureka\n",
      "Processing Record 8 of Set 11 : rio grande\n",
      "Processing Record 9 of Set 11 : havre-saint-pierre\n",
      "Processing Record 10 of Set 11 : salinas\n",
      "Processing Record 11 of Set 11 : huarmey\n",
      "Processing Record 12 of Set 11 : dunedin\n",
      "Processing Record 13 of Set 11 : havelock\n",
      "Processing Record 14 of Set 11 : asilah\n",
      "Processing Record 15 of Set 11 : ternate\n",
      "Processing Record 16 of Set 11 : kitaibaraki\n",
      "Processing Record 17 of Set 11 : haines junction\n",
      "Processing Record 18 of Set 11 : betanzos\n",
      "Processing Record 19 of Set 11 : lianran\n",
      "Processing Record 20 of Set 11 : galveston\n",
      "City not found. Skipping...\n",
      "Processing Record 21 of Set 11 : ranong\n",
      "Processing Record 22 of Set 11 : omboue\n",
      "Processing Record 23 of Set 11 : ixcatepec\n",
      "Processing Record 24 of Set 11 : lae\n",
      "Processing Record 25 of Set 11 : joshimath\n",
      "Processing Record 26 of Set 11 : culfa\n",
      "City not found. Skipping...\n",
      "Processing Record 27 of Set 11 : richards bay\n",
      "Processing Record 28 of Set 11 : bahia blanca\n",
      "Processing Record 29 of Set 11 : bloomingdale\n",
      "Processing Record 30 of Set 11 : rabo de peixe\n",
      "Processing Record 31 of Set 11 : luwuk\n",
      "Processing Record 32 of Set 11 : moose factory\n",
      "Processing Record 33 of Set 11 : flinders\n",
      "Processing Record 34 of Set 11 : barra\n",
      "Processing Record 35 of Set 11 : bar harbor\n",
      "Processing Record 36 of Set 11 : zhangye\n",
      "Processing Record 37 of Set 11 : alofi\n",
      "Processing Record 38 of Set 11 : great yarmouth\n",
      "Processing Record 39 of Set 11 : moberly\n",
      "Processing Record 40 of Set 11 : sabang\n",
      "Processing Record 41 of Set 11 : nioro\n",
      "Processing Record 42 of Set 11 : dali\n",
      "Processing Record 43 of Set 11 : sinazongwe\n",
      "Processing Record 44 of Set 11 : emerald\n",
      "Processing Record 45 of Set 11 : ayagoz\n",
      "City not found. Skipping...\n",
      "Processing Record 46 of Set 11 : lagoa\n",
      "Processing Record 47 of Set 11 : kampene\n",
      "Processing Record 48 of Set 11 : san felipe\n",
      "Processing Record 49 of Set 11 : korla\n",
      "Processing Record 50 of Set 11 : slave lake\n",
      "Processing Record 0 of Set 12 : estacion coahuila\n",
      "Processing Record 1 of Set 12 : enid\n",
      "Processing Record 2 of Set 12 : palora\n"
     ]
    },
    {
     "name": "stdout",
     "output_type": "stream",
     "text": [
      "Processing Record 3 of Set 12 : kununurra\n",
      "Processing Record 4 of Set 12 : gamba\n",
      "Processing Record 5 of Set 12 : borzna\n",
      "Processing Record 6 of Set 12 : savonlinna\n",
      "Processing Record 7 of Set 12 : salamiyah\n",
      "Processing Record 8 of Set 12 : obera\n",
      "Processing Record 9 of Set 12 : evensk\n",
      "Processing Record 10 of Set 12 : bintulu\n",
      "Processing Record 11 of Set 12 : san juan\n",
      "Processing Record 12 of Set 12 : dingle\n",
      "Processing Record 13 of Set 12 : indianola\n",
      "Processing Record 14 of Set 12 : osmena\n",
      "Processing Record 15 of Set 12 : greytown\n",
      "Processing Record 16 of Set 12 : hurricane\n",
      "Processing Record 17 of Set 12 : ratnagiri\n",
      "-------------------------------\n",
      "Data Retrieval Complete\n",
      "--------------------------------\n"
     ]
    }
   ],
   "source": [
    "print(\"Beginning Data Retrieval \")\n",
    "print(\"-----------------------------\")\n",
    "\n",
    "# For each city name in cities list, do below things...\n",
    "for index, city in enumerate(cities, start = 1):\n",
    "    try:\n",
    "        response = requests.get(query_url + city).json()\n",
    "        city_name_list.append(response[\"name\"])\n",
    "        cloudiness_list.append(response[\"clouds\"][\"all\"])\n",
    "        country_list.append(response[\"sys\"][\"country\"])\n",
    "        date_list.append(response[\"dt\"])\n",
    "        humidity_list.append(response[\"main\"][\"humidity\"])\n",
    "        lat_list.append(response[\"coord\"][\"lat\"])\n",
    "        lng_list.append(response[\"coord\"][\"lon\"])\n",
    "        max_temp_list.append(response['main']['temp_max'])\n",
    "        wind_speed_list.append(response[\"wind\"][\"speed\"])\n",
    "        if index_counter > 49:\n",
    "            index_counter = 0\n",
    "            set_counter = set_counter + 1\n",
    "            \n",
    "        else:\n",
    "            index_counter = index_counter + 1\n",
    "            \n",
    "        print(f\"Processing Record {index_counter} of Set {set_counter} : {city}\") \n",
    "  \n",
    "    except(KeyError, IndexError):\n",
    "        print(\"City not found. Skipping...\")\n",
    "\n",
    "print(\"-------------------------------\")\n",
    "print(\"Data Retrieval Complete\")\n",
    "print(\"--------------------------------\")"
   ]
  },
  {
   "cell_type": "markdown",
   "metadata": {},
   "source": [
    "### Convert Raw Data to DataFrame\n",
    "* Export the city data into a .csv.\n",
    "* Display the DataFrame"
   ]
  },
  {
   "cell_type": "code",
   "execution_count": 6,
   "metadata": {},
   "outputs": [],
   "source": [
    "# Create the data frame\n",
    "weather_data = pd.DataFrame({ \n",
    "                \"City\" : city_name_list,\n",
    "                \"Cloudiness\" : cloudiness_list,\n",
    "                \"Country\" : country_list,\n",
    "                \"Date\" : date_list,\n",
    "                \"Humidity\" : humidity_list,\n",
    "                \"Lat\" : lat_list,\n",
    "                \"Lng\" : lng_list,\n",
    "                \"Max Temp\" : max_temp_list,\n",
    "                \"Wind Speed\" : wind_speed_list\n",
    "})"
   ]
  },
  {
   "cell_type": "code",
   "execution_count": 7,
   "metadata": {},
   "outputs": [
    {
     "data": {
      "text/html": [
       "<div>\n",
       "<style scoped>\n",
       "    .dataframe tbody tr th:only-of-type {\n",
       "        vertical-align: middle;\n",
       "    }\n",
       "\n",
       "    .dataframe tbody tr th {\n",
       "        vertical-align: top;\n",
       "    }\n",
       "\n",
       "    .dataframe thead th {\n",
       "        text-align: right;\n",
       "    }\n",
       "</style>\n",
       "<table border=\"1\" class=\"dataframe\">\n",
       "  <thead>\n",
       "    <tr style=\"text-align: right;\">\n",
       "      <th></th>\n",
       "      <th>City</th>\n",
       "      <th>Cloudiness</th>\n",
       "      <th>Country</th>\n",
       "      <th>Date</th>\n",
       "      <th>Humidity</th>\n",
       "      <th>Lat</th>\n",
       "      <th>Lng</th>\n",
       "      <th>Max Temp</th>\n",
       "      <th>Wind Speed</th>\n",
       "    </tr>\n",
       "  </thead>\n",
       "  <tbody>\n",
       "    <tr>\n",
       "      <th>0</th>\n",
       "      <td>Esperance</td>\n",
       "      <td>31</td>\n",
       "      <td>AU</td>\n",
       "      <td>1659929701</td>\n",
       "      <td>63</td>\n",
       "      <td>-33.8667</td>\n",
       "      <td>121.9000</td>\n",
       "      <td>62.67</td>\n",
       "      <td>19.19</td>\n",
       "    </tr>\n",
       "    <tr>\n",
       "      <th>1</th>\n",
       "      <td>Albany</td>\n",
       "      <td>0</td>\n",
       "      <td>US</td>\n",
       "      <td>1659929818</td>\n",
       "      <td>88</td>\n",
       "      <td>42.6001</td>\n",
       "      <td>-73.9662</td>\n",
       "      <td>77.41</td>\n",
       "      <td>3.04</td>\n",
       "    </tr>\n",
       "    <tr>\n",
       "      <th>2</th>\n",
       "      <td>Muros</td>\n",
       "      <td>3</td>\n",
       "      <td>ES</td>\n",
       "      <td>1659930309</td>\n",
       "      <td>94</td>\n",
       "      <td>42.7762</td>\n",
       "      <td>-9.0603</td>\n",
       "      <td>63.68</td>\n",
       "      <td>4.50</td>\n",
       "    </tr>\n",
       "    <tr>\n",
       "      <th>3</th>\n",
       "      <td>Thompson</td>\n",
       "      <td>75</td>\n",
       "      <td>CA</td>\n",
       "      <td>1659930022</td>\n",
       "      <td>88</td>\n",
       "      <td>55.7435</td>\n",
       "      <td>-97.8558</td>\n",
       "      <td>64.56</td>\n",
       "      <td>3.44</td>\n",
       "    </tr>\n",
       "    <tr>\n",
       "      <th>4</th>\n",
       "      <td>Hilo</td>\n",
       "      <td>40</td>\n",
       "      <td>US</td>\n",
       "      <td>1659929966</td>\n",
       "      <td>77</td>\n",
       "      <td>19.7297</td>\n",
       "      <td>-155.0900</td>\n",
       "      <td>84.27</td>\n",
       "      <td>5.75</td>\n",
       "    </tr>\n",
       "  </tbody>\n",
       "</table>\n",
       "</div>"
      ],
      "text/plain": [
       "        City  Cloudiness Country        Date  Humidity      Lat       Lng  \\\n",
       "0  Esperance          31      AU  1659929701        63 -33.8667  121.9000   \n",
       "1     Albany           0      US  1659929818        88  42.6001  -73.9662   \n",
       "2      Muros           3      ES  1659930309        94  42.7762   -9.0603   \n",
       "3   Thompson          75      CA  1659930022        88  55.7435  -97.8558   \n",
       "4       Hilo          40      US  1659929966        77  19.7297 -155.0900   \n",
       "\n",
       "   Max Temp  Wind Speed  \n",
       "0     62.67       19.19  \n",
       "1     77.41        3.04  \n",
       "2     63.68        4.50  \n",
       "3     64.56        3.44  \n",
       "4     84.27        5.75  "
      ]
     },
     "execution_count": 7,
     "metadata": {},
     "output_type": "execute_result"
    }
   ],
   "source": [
    "# Display the Data Frame\n",
    "weather_data.head()"
   ]
  },
  {
   "cell_type": "markdown",
   "metadata": {},
   "source": [
    "## Inspect the data and remove the cities where the humidity > 100%.\n",
    "----\n",
    "Skip this step if there are no cities that have humidity > 100%. "
   ]
  },
  {
   "cell_type": "code",
   "execution_count": 8,
   "metadata": {},
   "outputs": [
    {
     "data": {
      "text/html": [
       "<div>\n",
       "<style scoped>\n",
       "    .dataframe tbody tr th:only-of-type {\n",
       "        vertical-align: middle;\n",
       "    }\n",
       "\n",
       "    .dataframe tbody tr th {\n",
       "        vertical-align: top;\n",
       "    }\n",
       "\n",
       "    .dataframe thead th {\n",
       "        text-align: right;\n",
       "    }\n",
       "</style>\n",
       "<table border=\"1\" class=\"dataframe\">\n",
       "  <thead>\n",
       "    <tr style=\"text-align: right;\">\n",
       "      <th></th>\n",
       "      <th>Cloudiness</th>\n",
       "      <th>Date</th>\n",
       "      <th>Humidity</th>\n",
       "      <th>Lat</th>\n",
       "      <th>Lng</th>\n",
       "      <th>Max Temp</th>\n",
       "      <th>Wind Speed</th>\n",
       "    </tr>\n",
       "  </thead>\n",
       "  <tbody>\n",
       "    <tr>\n",
       "      <th>count</th>\n",
       "      <td>578.000000</td>\n",
       "      <td>5.780000e+02</td>\n",
       "      <td>578.000000</td>\n",
       "      <td>578.000000</td>\n",
       "      <td>578.000000</td>\n",
       "      <td>578.000000</td>\n",
       "      <td>578.000000</td>\n",
       "    </tr>\n",
       "    <tr>\n",
       "      <th>mean</th>\n",
       "      <td>52.816609</td>\n",
       "      <td>1.659930e+09</td>\n",
       "      <td>73.280277</td>\n",
       "      <td>20.006236</td>\n",
       "      <td>15.014440</td>\n",
       "      <td>69.015934</td>\n",
       "      <td>7.805640</td>\n",
       "    </tr>\n",
       "    <tr>\n",
       "      <th>std</th>\n",
       "      <td>39.006167</td>\n",
       "      <td>2.156913e+02</td>\n",
       "      <td>19.029786</td>\n",
       "      <td>33.077842</td>\n",
       "      <td>90.926711</td>\n",
       "      <td>13.354684</td>\n",
       "      <td>5.646475</td>\n",
       "    </tr>\n",
       "    <tr>\n",
       "      <th>min</th>\n",
       "      <td>0.000000</td>\n",
       "      <td>1.659930e+09</td>\n",
       "      <td>1.000000</td>\n",
       "      <td>-54.800000</td>\n",
       "      <td>-179.166700</td>\n",
       "      <td>32.900000</td>\n",
       "      <td>0.000000</td>\n",
       "    </tr>\n",
       "    <tr>\n",
       "      <th>25%</th>\n",
       "      <td>13.000000</td>\n",
       "      <td>1.659930e+09</td>\n",
       "      <td>61.250000</td>\n",
       "      <td>-7.048050</td>\n",
       "      <td>-68.460875</td>\n",
       "      <td>59.095000</td>\n",
       "      <td>3.440000</td>\n",
       "    </tr>\n",
       "    <tr>\n",
       "      <th>50%</th>\n",
       "      <td>53.500000</td>\n",
       "      <td>1.659930e+09</td>\n",
       "      <td>77.000000</td>\n",
       "      <td>22.157300</td>\n",
       "      <td>17.813750</td>\n",
       "      <td>70.700000</td>\n",
       "      <td>6.420000</td>\n",
       "    </tr>\n",
       "    <tr>\n",
       "      <th>75%</th>\n",
       "      <td>96.000000</td>\n",
       "      <td>1.659930e+09</td>\n",
       "      <td>88.000000</td>\n",
       "      <td>47.955475</td>\n",
       "      <td>96.932125</td>\n",
       "      <td>79.510000</td>\n",
       "      <td>11.140000</td>\n",
       "    </tr>\n",
       "    <tr>\n",
       "      <th>max</th>\n",
       "      <td>100.000000</td>\n",
       "      <td>1.659930e+09</td>\n",
       "      <td>100.000000</td>\n",
       "      <td>78.218600</td>\n",
       "      <td>179.316700</td>\n",
       "      <td>97.430000</td>\n",
       "      <td>36.930000</td>\n",
       "    </tr>\n",
       "  </tbody>\n",
       "</table>\n",
       "</div>"
      ],
      "text/plain": [
       "       Cloudiness          Date    Humidity         Lat         Lng  \\\n",
       "count  578.000000  5.780000e+02  578.000000  578.000000  578.000000   \n",
       "mean    52.816609  1.659930e+09   73.280277   20.006236   15.014440   \n",
       "std     39.006167  2.156913e+02   19.029786   33.077842   90.926711   \n",
       "min      0.000000  1.659930e+09    1.000000  -54.800000 -179.166700   \n",
       "25%     13.000000  1.659930e+09   61.250000   -7.048050  -68.460875   \n",
       "50%     53.500000  1.659930e+09   77.000000   22.157300   17.813750   \n",
       "75%     96.000000  1.659930e+09   88.000000   47.955475   96.932125   \n",
       "max    100.000000  1.659930e+09  100.000000   78.218600  179.316700   \n",
       "\n",
       "         Max Temp  Wind Speed  \n",
       "count  578.000000  578.000000  \n",
       "mean    69.015934    7.805640  \n",
       "std     13.354684    5.646475  \n",
       "min     32.900000    0.000000  \n",
       "25%     59.095000    3.440000  \n",
       "50%     70.700000    6.420000  \n",
       "75%     79.510000   11.140000  \n",
       "max     97.430000   36.930000  "
      ]
     },
     "execution_count": 8,
     "metadata": {},
     "output_type": "execute_result"
    }
   ],
   "source": [
    "weather_data.describe()"
   ]
  },
  {
   "cell_type": "code",
   "execution_count": 9,
   "metadata": {},
   "outputs": [
    {
     "data": {
      "text/html": [
       "<div>\n",
       "<style scoped>\n",
       "    .dataframe tbody tr th:only-of-type {\n",
       "        vertical-align: middle;\n",
       "    }\n",
       "\n",
       "    .dataframe tbody tr th {\n",
       "        vertical-align: top;\n",
       "    }\n",
       "\n",
       "    .dataframe thead th {\n",
       "        text-align: right;\n",
       "    }\n",
       "</style>\n",
       "<table border=\"1\" class=\"dataframe\">\n",
       "  <thead>\n",
       "    <tr style=\"text-align: right;\">\n",
       "      <th></th>\n",
       "      <th>City</th>\n",
       "      <th>Cloudiness</th>\n",
       "      <th>Country</th>\n",
       "      <th>Date</th>\n",
       "      <th>Humidity</th>\n",
       "      <th>Lat</th>\n",
       "      <th>Lng</th>\n",
       "      <th>Max Temp</th>\n",
       "      <th>Wind Speed</th>\n",
       "    </tr>\n",
       "  </thead>\n",
       "  <tbody>\n",
       "  </tbody>\n",
       "</table>\n",
       "</div>"
      ],
      "text/plain": [
       "Empty DataFrame\n",
       "Columns: [City, Cloudiness, Country, Date, Humidity, Lat, Lng, Max Temp, Wind Speed]\n",
       "Index: []"
      ]
     },
     "execution_count": 9,
     "metadata": {},
     "output_type": "execute_result"
    }
   ],
   "source": [
    "#  Get the indices of cities that have humidity over 100%.\n",
    "weather_data.loc[weather_data['Humidity']>100,:]"
   ]
  },
  {
   "cell_type": "code",
   "execution_count": 10,
   "metadata": {},
   "outputs": [],
   "source": [
    "# Make a new DataFrame equal to the city data to drop all humidity outliers by index.\n",
    "# Passing \"inplace=False\" will make a copy of the city_data DataFrame, which we call \"clean_city_data\"."
   ]
  },
  {
   "cell_type": "code",
   "execution_count": 11,
   "metadata": {},
   "outputs": [],
   "source": [
    "# Save city data into a csv file\n",
    "weather_data.to_csv(\"../output_data/cities.csv\", index = False)"
   ]
  },
  {
   "cell_type": "markdown",
   "metadata": {},
   "source": [
    "## Plotting the Data\n",
    "* Use proper labeling of the plots using plot titles (including date of analysis) and axes labels.\n",
    "* Save the plotted figures as .pngs."
   ]
  },
  {
   "cell_type": "markdown",
   "metadata": {},
   "source": [
    "## Latitude vs. Temperature Plot"
   ]
  },
  {
   "cell_type": "code",
   "execution_count": 12,
   "metadata": {},
   "outputs": [
    {
     "data": {
      "image/png": "[encoded data removed]",
      "text/plain": [
       "<Figure size 432x288 with 1 Axes>"
      ]
     },
     "metadata": {
      "needs_background": "light"
     },
     "output_type": "display_data"
    }
   ],
   "source": [
    "# Create Latitude vs. Temperature Plot scatter plot\n",
    "plt.scatter(weather_data[\"Lat\"], weather_data[\"Max Temp\"], facecolor = \"blue\", edgecolor = \"black\")\n",
    "\n",
    "# Set the title\n",
    "plt.title(\"City Latitude vs. Max Temperature (08/07/22)\")\n",
    "\n",
    "# Set x axis label\n",
    "plt.xlabel(\"Latitude\")\n",
    "\n",
    "# Set y axis label\n",
    "plt.ylabel(\"Max Temperature (F)\")\n",
    "\n",
    "# Set grid line\n",
    "plt.grid(linestyle='-', linewidth=1, alpha = 0.6)\n",
    "\n",
    "# Save the figure\n",
    "plt.savefig(\"../output_data/City Latitude vs Max Temperature.png\")"
   ]
  },
  {
   "cell_type": "markdown",
   "metadata": {},
   "source": [
    "The temprerature and latitude both increase until the latitude reaches to 39-40, then the temperature declines as the latitude drops."
   ]
  },
  {
   "cell_type": "markdown",
   "metadata": {},
   "source": [
    "## Latitude vs. Humidity Plot"
   ]
  },
  {
   "cell_type": "code",
   "execution_count": 13,
   "metadata": {},
   "outputs": [
    {
     "data": {
      "image/png": "[encoded data removed]",
      "text/plain": [
       "<Figure size 432x288 with 1 Axes>"
      ]
     },
     "metadata": {
      "needs_background": "light"
     },
     "output_type": "display_data"
    }
   ],
   "source": [
    "# Create Plot scatter plot\n",
    "plt.scatter(weather_data[\"Lat\"], weather_data[\"Humidity\"], facecolor = \"blue\", edgecolor = \"black\")\n",
    "\n",
    "# Set title\n",
    "plt.title(\"City Latitude vs. Humidity (08/07/22)\")\n",
    "\n",
    "# Set x axis label\n",
    "plt.xlabel(\"Laitude\")\n",
    "\n",
    "# Set y axis label\n",
    "plt.ylabel(\"Humidity (%)\")\n",
    "\n",
    "# Set grid line\n",
    "plt.grid(linestyle='-', linewidth=1, alpha = 0.5)\n",
    "\n",
    "# Save the figure\n",
    "plt.savefig(\"../output_data/City Latitude vs. Humidity.png\")"
   ]
  },
  {
   "cell_type": "markdown",
   "metadata": {},
   "source": [
    "The graph indicates there is not a significant correlation between humidity and latitude."
   ]
  },
  {
   "cell_type": "markdown",
   "metadata": {},
   "source": [
    "## Latitude vs. Cloudiness Plot"
   ]
  },
  {
   "cell_type": "code",
   "execution_count": 14,
   "metadata": {},
   "outputs": [
    {
     "data": {
      "image/png": "[encoded data removed]",
      "text/plain": [
       "<Figure size 432x288 with 1 Axes>"
      ]
     },
     "metadata": {
      "needs_background": "light"
     },
     "output_type": "display_data"
    }
   ],
   "source": [
    "# Create Latitude vs. Cloudiness Plot scatter plot\n",
    "plt.scatter(weather_data[\"Lat\"], weather_data[\"Cloudiness\"], facecolor = \"blue\", edgecolor = \"black\")\n",
    "\n",
    "# Set title\n",
    "plt.title(\"City Latitude vs. Cloudiness (08/07/22)\")\n",
    "\n",
    "# Set x axis label\n",
    "plt.xlabel(\"Laitude\")\n",
    "\n",
    "# Set y axis label\n",
    "plt.ylabel(\"Cloudiness (%)\")\n",
    "\n",
    "# Set y axis limit\n",
    "plt.ylim(-5,105)\n",
    "\n",
    "# Set grid line\n",
    "plt.grid(linestyle='-', linewidth=1, alpha = 0.6)\n",
    "\n",
    "# Save the figure\n",
    "plt.savefig(\"../output_data/City Latitude vs. Cloudiness.png\")"
   ]
  },
  {
   "cell_type": "markdown",
   "metadata": {},
   "source": [
    "The cloudiness data is widely spread across the latitude, and this shows there is not any correlation between Cloudiness and latitude.\n"
   ]
  },
  {
   "cell_type": "markdown",
   "metadata": {},
   "source": [
    "## Latitude vs. Wind Speed Plot"
   ]
  },
  {
   "cell_type": "code",
   "execution_count": 15,
   "metadata": {},
   "outputs": [
    {
     "data": {
      "image/png": "[encoded data removed]",
      "text/plain": [
       "<Figure size 432x288 with 1 Axes>"
      ]
     },
     "metadata": {
      "needs_background": "light"
     },
     "output_type": "display_data"
    }
   ],
   "source": [
    "# Create Latitude vs. Wind Speed scatter plot\n",
    "plt.scatter(weather_data[\"Lat\"], weather_data[\"Wind Speed\"], facecolor = \"blue\", edgecolor = \"black\")\n",
    "\n",
    "plt.title(\"City Latitude vs. Wind Speed (mph) (08/07/22)\")\n",
    "\n",
    "# Set x axis label\n",
    "plt.xlabel(\"Laitude\")\n",
    "\n",
    "# Set y axis label\n",
    "plt.ylabel(\"Wind Speed (%)\")\n",
    "\n",
    "# Set y axis limit\n",
    "plt.ylim(-2,60)\n",
    "\n",
    "# Set grid line\n",
    "plt.grid(linestyle='-', linewidth=1, alpha = 0.6)\n",
    "\n",
    "# Save the figure\n",
    "plt.savefig(\"../output_data/City Latitude vs. Wind Speed.png\")"
   ]
  },
  {
   "cell_type": "markdown",
   "metadata": {},
   "source": [
    "There is no correlation between wind speed and cities latitude.\n"
   ]
  },
  {
   "cell_type": "markdown",
   "metadata": {},
   "source": [
    "## Linear Regression"
   ]
  },
  {
   "cell_type": "code",
   "execution_count": 16,
   "metadata": {},
   "outputs": [],
   "source": [
    "# Create Northern and Southern Hemisphere DataFrames\n",
    "northern_hemisphere = weather_data.loc[weather_data[\"Lat\"] >= 0]\n",
    "southern_hemisphere = weather_data.loc[weather_data[\"Lat\"] < 0]\n",
    "\n",
    "# Define function to create linear agression and scatter plot\n",
    "def linear_agression(x,y):\n",
    "    print(f\"The r-squared is : {round(st.pearsonr(x, y)[0],2)}\")\n",
    "    (slope, intercept, rvalue, pvalue, stderr) = linregress(x, y)\n",
    "    regress_values = x * slope + intercept\n",
    "    line_eq = \"y = \" + str(round(slope,2)) + \"x + \" + str(round(intercept,2))\n",
    "    plt.scatter(x, y)\n",
    "    plt.plot(x,regress_values,\"r-\")\n",
    "    return line_eq\n",
    "\n",
    "# Define a fuction for annotating\n",
    "def annotate(line_eq, a, b):\n",
    "    plt.annotate(line_eq,(a,b),fontsize=15,color=\"blue\")"
   ]
  },
  {
   "cell_type": "markdown",
   "metadata": {},
   "source": [
    "###  Northern Hemisphere - Max Temp vs. Latitude Linear Regression"
   ]
  },
  {
   "cell_type": "code",
   "execution_count": 17,
   "metadata": {},
   "outputs": [
    {
     "name": "stdout",
     "output_type": "stream",
     "text": [
      "The r-squared is : -0.67\n"
     ]
    },
    {
     "data": {
      "image/png": "[encoded data removed]",
      "text/plain": [
       "<Figure size 432x288 with 1 Axes>"
      ]
     },
     "metadata": {
      "needs_background": "light"
     },
     "output_type": "display_data"
    }
   ],
   "source": [
    "# Call an function #1\n",
    "equation = linear_agression(northern_hemisphere[\"Lat\"], northern_hemisphere[\"Max Temp\"])\n",
    "\n",
    "# Call an function #2\n",
    "annotate(equation, 0, 0)\n",
    "\n",
    "# Set a title\n",
    "plt.title(\"Northern Hemisphere - Max Temp vs. Latitude Linear Regression\")\n",
    "\n",
    "# Set xlabel\n",
    "plt.xlabel(\"Latitude\")\n",
    "\n",
    "# Set ylabel\n",
    "plt.ylabel(\"Max Temp (F)\")\n",
    "\n",
    "# Save the figure\n",
    "plt.savefig(\"../output_data/Northern Hemisphere - Max Temp vs. Latitude Linear Regression.png\")"
   ]
  },
  {
   "cell_type": "markdown",
   "metadata": {},
   "source": [
    "There is a strong negative correlation between latitude and max temperature for northern hemisphere."
   ]
  },
  {
   "cell_type": "markdown",
   "metadata": {},
   "source": [
    "####  Southern Hemisphere - Max Temp vs. Latitude Linear Regression"
   ]
  },
  {
   "cell_type": "code",
   "execution_count": 18,
   "metadata": {},
   "outputs": [
    {
     "name": "stdout",
     "output_type": "stream",
     "text": [
      "The r-squared is : 0.76\n"
     ]
    },
    {
     "data": {
      "image/png": "[encoded data removed]",
      "text/plain": [
       "<Figure size 432x288 with 1 Axes>"
      ]
     },
     "metadata": {
      "needs_background": "light"
     },
     "output_type": "display_data"
    }
   ],
   "source": [
    "# Set function #1\n",
    "equation = linear_agression(southern_hemisphere[\"Lat\"],southern_hemisphere[\"Max Temp\"])\n",
    "\n",
    "# Set function #2\n",
    "annotate(equation, -30, 50)\n",
    "\n",
    "# Set a title\n",
    "plt.title(\"Southern Hemisphere - Max Temp vs. Latitude Linear Regression\")\n",
    "\n",
    "# Set xlabel\n",
    "plt.xlabel(\"Latitude\")\n",
    "\n",
    "# Set ylabel\n",
    "plt.ylabel(\"Max Temp (F)\")\n",
    "\n",
    "# Save the figure\n",
    "plt.savefig(\"../output_data/Southern Hemisphere - Max Temp vs. Latitude Linear Regression.png\")"
   ]
  },
  {
   "cell_type": "markdown",
   "metadata": {},
   "source": [
    "This reflects a strong positive correlation between latitude and max temperature for southern hemisphere."
   ]
  },
  {
   "cell_type": "markdown",
   "metadata": {},
   "source": [
    "####  Northern Hemisphere - Humidity (%) vs. Latitude Linear Regression"
   ]
  },
  {
   "cell_type": "code",
   "execution_count": 19,
   "metadata": {
    "scrolled": true
   },
   "outputs": [
    {
     "name": "stdout",
     "output_type": "stream",
     "text": [
      "The r-squared is : -0.15\n"
     ]
    },
    {
     "data": {
      "image/png": "[encoded data removed]",
      "text/plain": [
       "<Figure size 432x288 with 1 Axes>"
      ]
     },
     "metadata": {
      "needs_background": "light"
     },
     "output_type": "display_data"
    }
   ],
   "source": [
    "# Call an function #1\n",
    "equation = linear_agression(northern_hemisphere[\"Lat\"], northern_hemisphere[\"Humidity\"])\n",
    "\n",
    "# Call an function #2\n",
    "annotate(equation, 40, 15)\n",
    "\n",
    "# Set a title\n",
    "plt.title(\"Northern Hemisphere - Humidity (%) vs. Latitude Linear Regression\")\n",
    "\n",
    "# Set xlabel\n",
    "plt.xlabel(\"Latitude\")\n",
    "\n",
    "# Set ylabel\n",
    "plt.ylabel(\"Humidity (%)\")\n",
    "\n",
    "# Save the figure\n",
    "plt.savefig(\"../output_data/Northern Hemisphere - Humidity (%) vs. Latitude Linear Regression.png\")"
   ]
  },
  {
   "cell_type": "markdown",
   "metadata": {},
   "source": [
    "There is a moderate negative correlation between latitude and humidity for northern hemisphere."
   ]
  },
  {
   "cell_type": "markdown",
   "metadata": {},
   "source": [
    "### Southern Hemisphere - Humidity (%) vs. Latitude Linear Regression\n"
   ]
  },
  {
   "cell_type": "code",
   "execution_count": 20,
   "metadata": {},
   "outputs": [
    {
     "name": "stdout",
     "output_type": "stream",
     "text": [
      "The r-squared is : -0.07\n"
     ]
    },
    {
     "data": {
      "image/png": "[encoded data removed]",
      "text/plain": [
       "<Figure size 432x288 with 1 Axes>"
      ]
     },
     "metadata": {
      "needs_background": "light"
     },
     "output_type": "display_data"
    }
   ],
   "source": [
    "# Set function #1\n",
    "equation = linear_agression(southern_hemisphere[\"Lat\"], southern_hemisphere[\"Humidity\"])\n",
    "\n",
    "# Set function #2\n",
    "annotate(equation, -40, 50)\n",
    "\n",
    "# Set the title\n",
    "plt.title(\"Southern Hemisphere - Humidity (%) vs. Latitude Linear Regression\")\n",
    "\n",
    "# Set xlabel\n",
    "plt.xlabel(\"Latitude\")\n",
    "\n",
    "# Set ylabel\n",
    "plt.ylabel(\"Humidity (%)\")\n",
    "\n",
    "# Save the figure\n",
    "plt.savefig(\"../output_data/Southern Hemisphere - Humidity (%) vs. Latitude Linear Regression.png\")"
   ]
  },
  {
   "cell_type": "markdown",
   "metadata": {},
   "source": [
    "There is a moderate negative correlation between latitude and humidity for southern hemisphere."
   ]
  },
  {
   "cell_type": "markdown",
   "metadata": {},
   "source": [
    "####  Northern Hemisphere - Cloudiness (%) vs. Latitude Linear Regression"
   ]
  },
  {
   "cell_type": "code",
   "execution_count": 21,
   "metadata": {},
   "outputs": [
    {
     "name": "stdout",
     "output_type": "stream",
     "text": [
      "The r-squared is : -0.0\n"
     ]
    },
    {
     "data": {
      "image/png": "[encoded data removed]",
      "text/plain": [
       "<Figure size 432x288 with 1 Axes>"
      ]
     },
     "metadata": {
      "needs_background": "light"
     },
     "output_type": "display_data"
    }
   ],
   "source": [
    "# Set Function #1\n",
    "equation = linear_agression(northern_hemisphere[\"Lat\"], northern_hemisphere[\"Cloudiness\"])\n",
    "\n",
    "# Set Function #2\n",
    "annotate(equation, 30, 40)\n",
    "\n",
    "# Set the title\n",
    "plt.title(\"Northern Hemisphere - Cloudiness (%) vs. Latitude Linear Regression\")\n",
    "\n",
    "# Set xlabel\n",
    "plt.xlabel(\"Latitude\")\n",
    "\n",
    "# Set ylabel\n",
    "plt.ylabel(\"Cloudiness (%)\")\n",
    "\n",
    "# Save the figure\n",
    "plt.savefig(\"../output_data/Northern Hemisphere - Cloudiness (%) vs. Latitude Linear Regression.png\")"
   ]
  },
  {
   "cell_type": "markdown",
   "metadata": {},
   "source": [
    "There is no correlation between latitude and cloudiness for northern hemisphere."
   ]
  },
  {
   "cell_type": "markdown",
   "metadata": {},
   "source": [
    "####  Southern Hemisphere - Cloudiness (%) vs. Latitude Linear Regression"
   ]
  },
  {
   "cell_type": "code",
   "execution_count": 22,
   "metadata": {},
   "outputs": [
    {
     "name": "stdout",
     "output_type": "stream",
     "text": [
      "The r-squared is : 0.04\n"
     ]
    },
    {
     "data": {
      "image/png": "[encoded data removed]",
      "text/plain": [
       "<Figure size 432x288 with 1 Axes>"
      ]
     },
     "metadata": {
      "needs_background": "light"
     },
     "output_type": "display_data"
    }
   ],
   "source": [
    "# Set function #1\n",
    "equation = linear_agression(southern_hemisphere[\"Lat\"], southern_hemisphere[\"Cloudiness\"])\n",
    "\n",
    "# Set function #2\n",
    "annotate(equation, -30, 40)\n",
    "\n",
    "# Set a title\n",
    "plt.title(\"Southern Hemisphere - Cloudiness (%) vs. Latitude Linear Regression\")\n",
    "\n",
    "# Set xlabel\n",
    "plt.xlabel(\"Latitude\")\n",
    "\n",
    "# Set ylabel\n",
    "plt.ylabel(\"Cloudiness (%)\")\n",
    "\n",
    "# Save the figure\n",
    "plt.savefig(\"../output_data/Southern Hemisphere - Cloudiness (%) vs. Latitude Linear Regression.png\")"
   ]
  },
  {
   "cell_type": "markdown",
   "metadata": {},
   "source": [
    "There is a weak positive correlation between latitude and cloudiness for Southern hemisphere."
   ]
  },
  {
   "cell_type": "markdown",
   "metadata": {},
   "source": [
    "####  Northern Hemisphere - Wind Speed (mph) vs. Latitude Linear Regression"
   ]
  },
  {
   "cell_type": "code",
   "execution_count": 23,
   "metadata": {},
   "outputs": [
    {
     "name": "stdout",
     "output_type": "stream",
     "text": [
      "The r-squared is : 0.01\n"
     ]
    },
    {
     "data": {
      "image/png": "[encoded data removed]",
      "text/plain": [
       "<Figure size 432x288 with 1 Axes>"
      ]
     },
     "metadata": {
      "needs_background": "light"
     },
     "output_type": "display_data"
    }
   ],
   "source": [
    "# Set function #1\n",
    "equation = linear_agression(northern_hemisphere[\"Lat\"], northern_hemisphere[\"Wind Speed\"])\n",
    "\n",
    "# Set function #2\n",
    "annotate(equation, 40, 20)\n",
    "\n",
    "# Set the title\n",
    "plt.title(\"Northern Hemisphere - Wind Speed (mph) vs. Latitude Linear Regression\")\n",
    "\n",
    "# Set xlabel\n",
    "plt.xlabel(\"Latitude\")\n",
    "\n",
    "# Set ylabel\n",
    "plt.ylabel(\"Wind Speed (mph)\")\n",
    "\n",
    "# Save the figure\n",
    "plt.savefig(\"../output_data/Northern Hemisphere - Wind Speed (mph) vs. Latitude Linear Regression.png\")"
   ]
  },
  {
   "cell_type": "markdown",
   "metadata": {},
   "source": [
    "There is a moderate positive correlation between latitude and wind speed for Northern hemisphere."
   ]
  },
  {
   "cell_type": "markdown",
   "metadata": {},
   "source": [
    "####  Southern Hemisphere - Wind Speed (mph) vs. Latitude Linear Regression"
   ]
  },
  {
   "cell_type": "code",
   "execution_count": 24,
   "metadata": {
    "scrolled": true
   },
   "outputs": [
    {
     "name": "stdout",
     "output_type": "stream",
     "text": [
      "The r-squared is : -0.11\n"
     ]
    },
    {
     "data": {
      "image/png": "[encoded data removed]",
      "text/plain": [
       "<Figure size 432x288 with 1 Axes>"
      ]
     },
     "metadata": {
      "needs_background": "light"
     },
     "output_type": "display_data"
    }
   ],
   "source": [
    "# Set function #1\n",
    "equation = linear_agression(southern_hemisphere[\"Lat\"], southern_hemisphere[\"Wind Speed\"])\n",
    "\n",
    "# Set function #2\n",
    "annotate(equation, -30, 15)\n",
    "\n",
    "# Set the title\n",
    "plt.title(\"Southern Hemisphere - Wind Speed (mph) vs. Latitude Linear Regression\")\n",
    "\n",
    "# Set xlabel\n",
    "plt.xlabel(\"Latitude\")\n",
    "\n",
    "# Set ylabel\n",
    "plt.ylabel(\"Wind Speed (mph)\")\n",
    "\n",
    "# Save the figure\n",
    "plt.savefig(\"../output_data/Southern Hemisphere - Wind Speed (mph) vs. Latitude Linear Regression.png\")"
   ]
  },
  {
   "cell_type": "markdown",
   "metadata": {},
   "source": [
    "There is a moderate negative correlation between latitude and wind speed for southern hemisphere."
   ]
  }
 ],
 "metadata": {
  "anaconda-cloud": {},
  "kernel_info": {
   "name": "python3"
  },
  "kernelspec": {
   "display_name": "Python 3 (ipykernel)",
   "language": "python",
   "name": "python3"
  },
  "language_info": {
   "codemirror_mode": {
    "name": "ipython",
    "version": 3
   },
   "file_extension": ".py",
   "mimetype": "text/x-python",
   "name": "python",
   "nbconvert_exporter": "python",
   "pygments_lexer": "ipython3",
   "version": "3.8.13"
  },
  "latex_envs": {
   "LaTeX_envs_menu_present": true,
   "autoclose": false,
   "autocomplete": true,
   "bibliofile": "biblio.bib",
   "cite_by": "apalike",
   "current_citInitial": 1,
   "eqLabelWithNumbers": true,
   "eqNumInitial": 1,
   "hotkeys": {
    "equation": "Ctrl-E",
    "itemize": "Ctrl-I"
   },
   "labels_anchors": false,
   "latex_user_defs": false,
   "report_style_numbering": false,
   "user_envs_cfg": false
  },
  "nteract": {
   "version": "0.12.3"
  }
 },
 "nbformat": 4,
 "nbformat_minor": 2
}
